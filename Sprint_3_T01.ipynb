{
 "cells": [
  {
   "cell_type": "markdown",
   "id": "64673e64",
   "metadata": {},
   "source": [
    "# Tarea M3 T01"
   ]
  },
  {
   "cell_type": "markdown",
   "id": "33f180c1",
   "metadata": {},
   "source": [
    "## Ejercicio 1"
   ]
  },
  {
   "cell_type": "code",
   "execution_count": 109,
   "id": "c5d014cb",
   "metadata": {},
   "outputs": [],
   "source": [
    "from sklearn.datasets import load_iris\n",
    "import numpy as np\n",
    "\n",
    "data = load_iris().data\n",
    "target = load_iris().target"
   ]
  },
  {
   "cell_type": "code",
   "execution_count": 110,
   "id": "329b653a",
   "metadata": {},
   "outputs": [
    {
     "name": "stdout",
     "output_type": "stream",
     "text": [
      "Los primeros 10 registros de data son: \n",
      " [[5.1 3.5 1.4 0.2]\n",
      " [4.9 3.  1.4 0.2]\n",
      " [4.7 3.2 1.3 0.2]\n",
      " [4.6 3.1 1.5 0.2]\n",
      " [5.  3.6 1.4 0.2]\n",
      " [5.4 3.9 1.7 0.4]\n",
      " [4.6 3.4 1.4 0.3]\n",
      " [5.  3.4 1.5 0.2]\n",
      " [4.4 2.9 1.4 0.2]\n",
      " [4.9 3.1 1.5 0.1]]\n"
     ]
    }
   ],
   "source": [
    "print(\"Los primeros 10 registros de data son:\", '\\n',data[0:10,0:])"
   ]
  },
  {
   "cell_type": "code",
   "execution_count": 111,
   "id": "28a5ee99",
   "metadata": {},
   "outputs": [
    {
     "name": "stdout",
     "output_type": "stream",
     "text": [
      "Los primeros 10 registros de target son: [0 0 0 0 0 0 0 0 0 0]\n"
     ]
    }
   ],
   "source": [
    "print(\"Los primeros 10 registros de target son:\",target[0:10])"
   ]
  },
  {
   "cell_type": "markdown",
   "id": "e530861a",
   "metadata": {},
   "source": [
    "## Ejercicio 2"
   ]
  },
  {
   "cell_type": "code",
   "execution_count": 112,
   "id": "0e6006ac",
   "metadata": {},
   "outputs": [
    {
     "name": "stdout",
     "output_type": "stream",
     "text": [
      "Los primeros 5 registros del array concatenado son: \n",
      " [[5.1 3.5 1.4 0.2 0. ]\n",
      " [4.9 3.  1.4 0.2 0. ]\n",
      " [4.7 3.2 1.3 0.2 0. ]\n",
      " [4.6 3.1 1.5 0.2 0. ]\n",
      " [5.  3.6 1.4 0.2 0. ]]\n"
     ]
    }
   ],
   "source": [
    "targetR=target.reshape(150,1)\n",
    "data_target = np.concatenate((data,targetR), axis=1)\n",
    "print (\"Los primeros 5 registros del array concatenado son:\",'\\n',data_target [0:5,0:])"
   ]
  },
  {
   "cell_type": "markdown",
   "id": "6abf21c0",
   "metadata": {},
   "source": [
    "## Ejercicio 3"
   ]
  },
  {
   "cell_type": "code",
   "execution_count": 113,
   "id": "afe3cef3",
   "metadata": {},
   "outputs": [
    {
     "name": "stdout",
     "output_type": "stream",
     "text": [
      "La media de la lóngitud del sépalo es 5.84 cm\n",
      "La media de la longitud de los pétalos es 3.76 cm\n",
      "La desviación estándar de la lóngitud del sépalo es 0.83 cm\n",
      "La desviación estándar de la lóngitud de los pétalos es 1.76 cm\n"
     ]
    }
   ],
   "source": [
    "print(\"La media de la lóngitud del sépalo es\", np.around(np.mean(data_target[:,0:1]),2), \"cm\")\n",
    "print(\"La media de la longitud de los pétalos es\", np.around(np.mean(data_target[:,2:3]),2), \"cm\")\n",
    "print(\"La desviación estándar de la lóngitud del sépalo es\", np.around(np.std(data_target[:,0:1]),2), \"cm\")\n",
    "print(\"La desviación estándar de la lóngitud de los pétalos es\", np.around(np.std(data_target[:,2:3]),2), \"cm\")"
   ]
  },
  {
   "cell_type": "markdown",
   "id": "9e179dc9",
   "metadata": {},
   "source": [
    "## Ejercicio 4"
   ]
  },
  {
   "cell_type": "code",
   "execution_count": 114,
   "id": "e422a726",
   "metadata": {},
   "outputs": [],
   "source": [
    "from numpy import random"
   ]
  },
  {
   "cell_type": "code",
   "execution_count": 115,
   "id": "24c57d4e",
   "metadata": {},
   "outputs": [
    {
     "name": "stdout",
     "output_type": "stream",
     "text": [
      "La muestra aleatoria de 20 registros es: \n",
      " [[6.7 3.3 5.7 2.1 2. ]\n",
      " [4.4 3.  1.3 0.2 0. ]\n",
      " [5.9 3.  4.2 1.5 1. ]\n",
      " [5.7 3.8 1.7 0.3 0. ]\n",
      " [6.5 3.  5.5 1.8 2. ]\n",
      " [5.1 2.5 3.  1.1 1. ]\n",
      " [5.8 4.  1.2 0.2 0. ]\n",
      " [6.1 3.  4.6 1.4 1. ]\n",
      " [4.6 3.6 1.  0.2 0. ]\n",
      " [4.9 2.5 4.5 1.7 2. ]\n",
      " [4.9 2.5 4.5 1.7 2. ]\n",
      " [4.8 3.4 1.9 0.2 0. ]\n",
      " [5.2 4.1 1.5 0.1 0. ]\n",
      " [4.8 3.1 1.6 0.2 0. ]\n",
      " [6.8 3.2 5.9 2.3 2. ]\n",
      " [5.8 2.6 4.  1.2 1. ]\n",
      " [4.9 3.6 1.4 0.1 0. ]\n",
      " [5.5 2.3 4.  1.3 1. ]\n",
      " [6.4 2.8 5.6 2.2 2. ]\n",
      " [6.3 2.5 4.9 1.5 1. ]]\n"
     ]
    }
   ],
   "source": [
    "print(\"La muestra aleatoria de 20 registros es:\",'\\n',data_target[random.randint(len(data_target), size=20),:])"
   ]
  },
  {
   "cell_type": "markdown",
   "id": "409ad770",
   "metadata": {},
   "source": [
    "## Ejercicio 5"
   ]
  },
  {
   "cell_type": "markdown",
   "id": "80b3f04f",
   "metadata": {},
   "source": [
    "## a) "
   ]
  },
  {
   "cell_type": "code",
   "execution_count": 116,
   "id": "aa79eaaa",
   "metadata": {},
   "outputs": [
    {
     "name": "stdout",
     "output_type": "stream",
     "text": [
      "La matriz de medias de cada característica por especie es: \n",
      " [[5.01 3.43 1.46 0.25]\n",
      " [5.94 2.77 4.26 1.33]\n",
      " [6.59 2.97 5.55 2.03]]\n"
     ]
    }
   ],
   "source": [
    "i = [0,1,2,3] \n",
    "Setosa_M=np.round(np.mean([fila [i] for fila in data_target[np.where(data_target[:,-1]==0.)]],0),2)\n",
    "Versicolor_M=np.round(np.mean([fila [i] for fila in data_target[np.where(data_target[:,-1]==1.)]],0),2)\n",
    "Virginica_M=np.round(np.mean([fila [i] for fila in data_target[np.where(data_target[:,-1]==2.)]],0),2)\n",
    "print (\"La matriz de medias de cada característica por especie es:\", '\\n', np.matrix([Setosa_M, Versicolor_M, Virginica_M]))"
   ]
  },
  {
   "cell_type": "code",
   "execution_count": 117,
   "id": "778da977",
   "metadata": {},
   "outputs": [
    {
     "name": "stdout",
     "output_type": "stream",
     "text": [
      "La matriz de desviaciones estándar de cada característica por especie es: \n",
      " [[0.349 0.375 0.172 0.104]\n",
      " [0.511 0.311 0.465 0.196]\n",
      " [0.629 0.319 0.546 0.272]]\n"
     ]
    }
   ],
   "source": [
    "i = [0,1,2,3] \n",
    "SetosaS=np.round(np.std([fila [i] for fila in data_target[np.where(data_target[:,-1]==0.)]],0),3)\n",
    "VersicolorS=np.round(np.std([fila [i] for fila in data_target[np.where(data_target[:,-1]==1.)]],0),3)\n",
    "VirginicaS=np.round(np.std([fila [i] for fila in data_target[np.where(data_target[:,-1]==2.)]],0),3)\n",
    "print (\"La matriz de desviaciones estándar de cada característica por especie es:\", '\\n', \n",
    "       np.matrix([SetosaS, VersicolorS, VirginicaS]))"
   ]
  },
  {
   "cell_type": "markdown",
   "id": "2bca9d64",
   "metadata": {},
   "source": [
    "## Ejercicio 6"
   ]
  },
  {
   "cell_type": "markdown",
   "id": "f5bfb080",
   "metadata": {},
   "source": [
    "## a)"
   ]
  },
  {
   "cell_type": "code",
   "execution_count": 118,
   "id": "2ac7b054",
   "metadata": {},
   "outputs": [
    {
     "name": "stdout",
     "output_type": "stream",
     "text": [
      "[[ 0. 50.]\n",
      " [ 1. 50.]\n",
      " [ 2. 50.]] \n",
      " Se han tomado cincuenta muestras por cada especie\n"
     ]
    }
   ],
   "source": [
    "Especies, Conteo = np.unique(data_target[:,-1], return_counts=True)\n",
    "Matriz_conteo = np.column_stack((Especies,Conteo))\n",
    "print (Matriz_conteo,'\\n',\"Se han tomado cincuenta muestras por cada especie\")"
   ]
  },
  {
   "cell_type": "markdown",
   "id": "076e3639",
   "metadata": {},
   "source": [
    "## b) "
   ]
  },
  {
   "cell_type": "code",
   "execution_count": 119,
   "id": "07fb677e",
   "metadata": {},
   "outputs": [
    {
     "name": "stdout",
     "output_type": "stream",
     "text": [
      "La especie virginica con 6.59 cm es la que tiene el valor máximo promedio en longitud de sépalo\n"
     ]
    }
   ],
   "source": [
    "Arr_medias = np.array((Setosa_M, Versicolor_M, Virginica_M))\n",
    "print(\"La especie\",load_iris().target_names[np.argmax(Arr_medias[:,0:1])],\"con\",max(max(i) for i in Arr_medias[:,0:1]),\n",
    "      \"cm es la que tiene el valor máximo promedio en longitud de sépalo\")"
   ]
  },
  {
   "cell_type": "markdown",
   "id": "7803183e",
   "metadata": {},
   "source": [
    "## Ejercicio 7"
   ]
  },
  {
   "cell_type": "markdown",
   "id": "3d751421",
   "metadata": {},
   "source": [
    "## a)"
   ]
  },
  {
   "cell_type": "code",
   "execution_count": 120,
   "id": "58edcd7f",
   "metadata": {},
   "outputs": [
    {
     "name": "stdout",
     "output_type": "stream",
     "text": [
      "La matriz de correlación de los datos es: \n",
      " \n",
      " [[1.         0.99599866 0.99997391 ... 0.65347343 0.6339168  0.63315839]\n",
      " [0.99599866 1.         0.99660709 ... 0.70898277 0.68625679 0.68483481]\n",
      " [0.99997391 0.99660709 1.         ... 0.65755616 0.63763128 0.6368058 ]\n",
      " ...\n",
      " [0.65347343 0.70898277 0.65755616 ... 1.         0.99570813 0.99446012]\n",
      " [0.6339168  0.68625679 0.63763128 ... 0.99570813 1.         0.99991588]\n",
      " [0.63315839 0.68483481 0.6368058  ... 0.99446012 0.99991588 1.        ]]\n"
     ]
    }
   ],
   "source": [
    "print (\"La matriz de correlación de los datos es:\",'\\n','\\n',np.corrcoef(data))"
   ]
  },
  {
   "cell_type": "markdown",
   "id": "04c8ee41",
   "metadata": {},
   "source": [
    "## b)"
   ]
  },
  {
   "cell_type": "code",
   "execution_count": 121,
   "id": "804ace57",
   "metadata": {},
   "outputs": [
    {
     "name": "stdout",
     "output_type": "stream",
     "text": [
      "Los valores mayores a la media de la lóngitud de los pétalos son: \n",
      " [5.1 4.9 4.7 4.6 5.  5.4 3.9 4.6 5.  4.4 4.9 5.4 4.8 4.8 4.3 5.8 4.  5.7\n",
      " 4.4 5.4 3.9 5.1 5.7 3.8 5.1 3.8 5.4 5.1 4.6 5.1 4.8 5.  5.  5.2 5.2 4.7\n",
      " 4.8 5.4 5.2 4.1 5.5 4.2 4.9 5.  5.5 4.9 4.4 5.1 5.  4.5 4.4 5.  5.1 3.8\n",
      " 4.8 5.1 3.8 4.6 5.3 5.  7.  4.7 6.4 4.5 6.9 4.9 5.5 4.  6.5 4.6 5.7 4.5\n",
      " 6.3 4.7 4.9 6.6 4.6 5.2 3.9 5.  5.9 4.2 6.  4.  6.1 4.7 5.6 6.7 4.4 5.6\n",
      " 4.5 5.8 4.1 6.2 4.5 5.6 3.9 5.9 4.8 6.1 4.  6.3 4.9 6.1 4.7 6.4 4.3 6.6\n",
      " 4.4 6.8 4.8 6.7 5.  6.  4.5 5.7 5.5 3.8 5.5 5.8 3.9 6.  5.1 5.4 4.5 6.\n",
      " 4.5 6.7 4.7 6.3 4.4 5.6 4.1 5.5 4.  5.5 4.4 6.1 4.6 5.8 4.  5.  5.6 4.2\n",
      " 5.7 4.2 5.7 4.2 6.2 4.3 5.1 5.7 4.1 6.3 6.  5.8 5.1 7.1 5.9 6.3 5.6 6.5\n",
      " 5.8 7.6 6.6 4.9 4.5 7.3 6.3 6.7 5.8 7.2 6.1 6.5 5.1 6.4 5.3 6.8 5.5 5.7\n",
      " 5.  5.8 5.1 6.4 5.3 6.5 5.5 7.7 3.8 6.7 7.7 6.9 6.  5.  6.9 5.7 5.6 4.9\n",
      " 7.7 6.7 6.3 4.9 6.7 5.7 7.2 6.  6.2 4.8 6.1 4.9 6.4 5.6 7.2 5.8 7.4 6.1\n",
      " 7.9 3.8 6.4 6.4 5.6 6.3 5.1 6.1 5.6 7.7 6.1 6.3 5.6 6.4 5.5 6.  4.8 6.9\n",
      " 5.4 6.7 5.6 6.9 5.1 5.8 5.1 6.8 5.9 6.7 5.7 6.7 5.2 6.3 5.  6.5 5.2 6.2\n",
      " 5.4 5.9 5.1]\n"
     ]
    }
   ],
   "source": [
    "print(\"Los valores mayores a la media de la lóngitud de los pétalos son:\",\"\\n\",data[np.where(data>np.mean(data[:,2]))])\n"
   ]
  },
  {
   "cell_type": "markdown",
   "id": "73e9c0ed",
   "metadata": {},
   "source": [
    "## c)"
   ]
  },
  {
   "cell_type": "code",
   "execution_count": 122,
   "id": "8405292d",
   "metadata": {},
   "outputs": [
    {
     "name": "stdout",
     "output_type": "stream",
     "text": [
      "La muestra con los pétalos más grandes es: \n",
      " [7.7 2.6 6.9 2.3 2. ]\n"
     ]
    }
   ],
   "source": [
    "print(\"La muestra con los pétalos más grandes es:\",\"\\n\",data_target[np.argmax(data_target[:,2])])"
   ]
  },
  {
   "cell_type": "markdown",
   "id": "66056b38",
   "metadata": {},
   "source": [
    "## Ejercicio 8"
   ]
  },
  {
   "cell_type": "code",
   "execution_count": 123,
   "id": "07f3b6d0",
   "metadata": {},
   "outputs": [
    {
     "name": "stdout",
     "output_type": "stream",
     "text": [
      "La especie setosa con 3.55 cm es la que tiene una mayor diferencia en la longitud media entre sépalos y pétalos\n"
     ]
    }
   ],
   "source": [
    "print(\"La especie\", load_iris().target_names[np.argmax(Arr_medias[:,0]-Arr_medias[:,2])], \"con\"\n",
    "      , max(Arr_medias[:,0]-Arr_medias[:,2]),\"cm es la que tiene una mayor diferencia en la longitud media\" \n",
    "      \" entre sépalos y pétalos\")"
   ]
  }
 ],
 "metadata": {
  "kernelspec": {
   "display_name": "Python 3 (ipykernel)",
   "language": "python",
   "name": "python3"
  },
  "language_info": {
   "codemirror_mode": {
    "name": "ipython",
    "version": 3
   },
   "file_extension": ".py",
   "mimetype": "text/x-python",
   "name": "python",
   "nbconvert_exporter": "python",
   "pygments_lexer": "ipython3",
   "version": "3.11.4"
  }
 },
 "nbformat": 4,
 "nbformat_minor": 5
}
